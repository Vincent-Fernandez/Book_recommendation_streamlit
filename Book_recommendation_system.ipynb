{
 "cells": [
  {
   "attachments": {},
   "cell_type": "markdown",
   "metadata": {},
   "source": [
    "# Import libraries"
   ]
  },
  {
   "cell_type": "code",
   "execution_count": 1,
   "metadata": {},
   "outputs": [],
   "source": [
    "import pandas as pd\n",
    "import re\n",
    "from sklearn.feature_extraction.text import CountVectorizer\n",
    "from sklearn.metrics.pairwise import cosine_similarity"
   ]
  },
  {
   "attachments": {},
   "cell_type": "markdown",
   "metadata": {},
   "source": [
    "# Data preparation/cleaning"
   ]
  },
  {
   "cell_type": "code",
   "execution_count": 2,
   "metadata": {},
   "outputs": [],
   "source": [
    "# Import dataset and rename the first column to 'index'\n",
    "df = pd.read_csv(\"/Users/vincent/Downloads/Goodreads_best1500books.csv\") \n",
    "\n",
    "# Rename the first column to 'index'\n",
    "df.rename(columns={df.columns[0]: 'index'}, inplace=True)\n",
    "\n",
    "# Data preparation/cleaning\n",
    "\n",
    "# Remove text between parentheses in 'book_name' column\n",
    "df['book_name'] = df['book_name'].apply(lambda x: re.sub(r'\\([^)]*\\)', '', x))\n",
    "\n",
    "# Replace commas in 'no_of_raters' column\n",
    "df[\"no_of_raters\"] = df[\"no_of_raters\"].str.replace(\",\", \"\")\n",
    "\n",
    "# Replace certain strings in 'avg_rating' column with NaN values and drop rows with NaN values\n",
    "df = df[~df['avg_rating'].isin(['it', 'liked', 'really'])].dropna(subset=['avg_rating'])\n",
    "\"\"\"\n",
    "isin() find the rows where the 'avg_rating' column contains the values 'it', 'liked', or 'really'. \n",
    "The ~ operator inverts the Boolean mask to keep only the rows where the 'avg_rating' column does not contain these values.\n",
    "Then we use dropna() to remove any remaining rows with NaN values in the 'avg_rating' column.\n",
    "\"\"\"\n",
    "\n",
    "# Convert 'avg_rating' and 'no_of_raters' columns to float\n",
    "df[\"avg_rating\"] = df[\"avg_rating\"].astype(float)\n",
    "df[\"no_of_raters\"] = df[\"no_of_raters\"].astype(float)"
   ]
  },
  {
   "attachments": {},
   "cell_type": "markdown",
   "metadata": {},
   "source": [
    "# Define the book the user likes"
   ]
  },
  {
   "cell_type": "code",
   "execution_count": 3,
   "metadata": {},
   "outputs": [],
   "source": [
    "books_user_likes = \"Exotic Neurotic\""
   ]
  },
  {
   "attachments": {},
   "cell_type": "markdown",
   "metadata": {},
   "source": [
    "# Recommendation part - Cosine similarity (content-based system) and popularity-based system"
   ]
  },
  {
   "cell_type": "code",
   "execution_count": 4,
   "metadata": {},
   "outputs": [
    {
     "name": "stdout",
     "output_type": "stream",
     "text": [
      "Hunting Ground \n",
      "The Dive From Clausen's Pier\n",
      "Dry\n",
      "Station Eleven\n",
      "The Chronicle of Sapta Sindhu\n",
      "Shades of Grey \n",
      "The Hunger Games \n",
      "Cloud Atlas\n",
      "The Host \n",
      "The Sea of Monsters \n",
      "The Titan's Curse \n",
      "City of Lost Souls \n",
      "Phantom Wolf \n",
      "State of Wonder\n",
      "Master of the Senate\n"
     ]
    }
   ],
   "source": [
    "# Define list of features to use for recommendation\n",
    "features = ['author_name', 'book_genre', 'year_published']\n",
    "\n",
    "# Fill any missing values in these columns with an empty string\n",
    "for feature in features:\n",
    "    df[feature] = df[feature].fillna('')\n",
    "\n",
    "# Define function to combine feature values for each row into a single string\n",
    "def combined_features(row):\n",
    "    return str(row['author_name']) + \" \" + str(row['book_genre']) + \" \" + str(row['year_published'])\n",
    "\n",
    "# Apply the function to each row to create a new column 'combined_features'\n",
    "df[\"combined_features\"] = df.apply(combined_features, axis=1)\n",
    "\n",
    "# Use CountVectorizer to convert 'combined_features' column into a matrix of token counts\n",
    "cv = CountVectorizer()\n",
    "count_matrix = cv.fit_transform(df[\"combined_features\"])\n",
    "\n",
    "# Use cosine similarity to calculate similarity scores between all books based on their 'combined_features' token counts\n",
    "cosine_sim = cosine_similarity(count_matrix)\n",
    "\n",
    "# Define the book the user likes\n",
    "books_user_likes = \"Exotic Neurotic\"\n",
    "\n",
    "# Define a function to get the index of a book by its name\n",
    "def get_index_from_book_name(book_name):\n",
    "    return df[df.book_name == book_name][\"index\"].values[0]\n",
    "\n",
    "# Get the index of the book the user likes\n",
    "books_index = get_index_from_book_name(books_user_likes)\n",
    "\n",
    "# Get the similarity scores between the book the user likes and all other books\n",
    "similar_books = list(enumerate(cosine_sim[books_index]))\n",
    "\n",
    "# Sort the list of books by their similarity score (highest to lowest), and exclude the book the user likes\n",
    "sorted_similar_books = sorted(similar_books, key=lambda x: x[1], reverse=True)[1:16]\n",
    "\n",
    "# Define a function to get the name of a book by its index\n",
    "def get_book_name_from_index(index):\n",
    "    return df[df.index == index][\"book_name\"].values[0]\n",
    "\n",
    "# Create a list of the names of the 15 most similar books\n",
    "result = []\n",
    "for book in sorted_similar_books:\n",
    "    result.append(get_book_name_from_index(book[0]))\n",
    "\n",
    "# Print the list of recommended books\n",
    "for book in result:\n",
    "    print(book)\n"
   ]
  }
 ],
 "metadata": {
  "kernelspec": {
   "display_name": "Python 3",
   "language": "python",
   "name": "python3"
  },
  "language_info": {
   "codemirror_mode": {
    "name": "ipython",
    "version": 3
   },
   "file_extension": ".py",
   "mimetype": "text/x-python",
   "name": "python",
   "nbconvert_exporter": "python",
   "pygments_lexer": "ipython3",
   "version": "3.9.16"
  },
  "orig_nbformat": 4
 },
 "nbformat": 4,
 "nbformat_minor": 2
}
